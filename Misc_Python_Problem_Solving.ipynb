{
 "cells": [
  {
   "cell_type": "markdown",
   "id": "ded5c706-9490-4f52-8a96-f7d118273335",
   "metadata": {},
   "source": [
    "## Questions"
   ]
  },
  {
   "cell_type": "markdown",
   "id": "64f533d0-bff3-4957-84d9-f6ddcae880c5",
   "metadata": {
    "tags": []
   },
   "source": [
    "#### Q1: H-index"
   ]
  },
  {
   "cell_type": "markdown",
   "id": "ab5af727-e701-46de-ab6b-ca42dfc1a915",
   "metadata": {
    "tags": []
   },
   "source": [
    "    Write a code to calculate h-index; given an array of papers and  their citations.\n",
    "    \n",
    "    https://leetcode.com/problems/h-index/"
   ]
  },
  {
   "cell_type": "markdown",
   "id": "78c078fd-37f1-4031-a1b5-68938f64eae7",
   "metadata": {},
   "source": [
    "##### Solution"
   ]
  },
  {
   "cell_type": "code",
   "execution_count": null,
   "id": "cd5d457d-a3c5-4266-baaa-a3f669358839",
   "metadata": {},
   "outputs": [],
   "source": []
  },
  {
   "cell_type": "markdown",
   "id": "6de89f12-e524-466a-a9c7-cf73bc1915e8",
   "metadata": {},
   "source": [
    "#### Print the palindrome"
   ]
  },
  {
   "cell_type": "code",
   "execution_count": 8,
   "id": "89a125af-0783-4347-af12-b93371b90854",
   "metadata": {},
   "outputs": [],
   "source": [
    "def palindrome(A):\n",
    "    n = A.lower()\n",
    "    for i in range(len(A)//2):\n",
    "        if n[i] != n[(len(n)-1)-i]:\n",
    "            return False\n",
    "    print(A) \n",
    "    return True"
   ]
  },
  {
   "cell_type": "code",
   "execution_count": 4,
   "id": "461fe528-a22b-423a-834e-430a230ec9db",
   "metadata": {},
   "outputs": [],
   "source": [
    "def palindrome(A):\n",
    "    n = A.lower()\n",
    "    i=0\n",
    "    j = len(A)-1\n",
    "    while i < j:\n",
    "        if n[i] != n[j]:\n",
    "            return False\n",
    "        else: \n",
    "            i+=1\n",
    "            j-=1\n",
    "    print(A)                 "
   ]
  },
  {
   "cell_type": "code",
   "execution_count": 9,
   "id": "ca9b8b91-6625-4aa4-99af-82f9ef39102a",
   "metadata": {},
   "outputs": [
    {
     "name": "stdout",
     "output_type": "stream",
     "text": [
      "NAMAN\n"
     ]
    },
    {
     "data": {
      "text/plain": [
       "True"
      ]
     },
     "execution_count": 9,
     "metadata": {},
     "output_type": "execute_result"
    }
   ],
   "source": [
    "palindrome(A)"
   ]
  },
  {
   "cell_type": "code",
   "execution_count": 2,
   "id": "5268d1ce-5730-4a3e-8cc7-98bec4142f7a",
   "metadata": {},
   "outputs": [],
   "source": [
    "A = \"NAMAN\""
   ]
  },
  {
   "cell_type": "code",
   "execution_count": 42,
   "id": "93a3f482-4927-4152-a8fa-be78e430128b",
   "metadata": {},
   "outputs": [
    {
     "data": {
      "text/plain": [
       "3"
      ]
     },
     "execution_count": 42,
     "metadata": {},
     "output_type": "execute_result"
    }
   ],
   "source": [
    "math.ceil(len(A)/2)"
   ]
  },
  {
   "cell_type": "code",
   "execution_count": 11,
   "id": "a8c617a8-f7ab-4fb6-afe0-b87b70952d14",
   "metadata": {},
   "outputs": [],
   "source": [
    "A = \"NAMMAN\""
   ]
  },
  {
   "cell_type": "code",
   "execution_count": 5,
   "id": "ae732737-b45d-470a-a905-bd0583ee5b49",
   "metadata": {},
   "outputs": [],
   "source": [
    "A = \"NAMCAN\""
   ]
  },
  {
   "cell_type": "markdown",
   "id": "f399a1a4-868b-455e-962a-de2632a5c054",
   "metadata": {
    "tags": []
   },
   "source": [
    "### Q: Palindrome Sub-sequence"
   ]
  },
  {
   "cell_type": "markdown",
   "id": "9d0f67c7-51e6-420f-a360-a1509e4a0114",
   "metadata": {},
   "source": [
    "##### Sub-sequence palindromes\n",
    "    Print all the sub-sequence palindromes and their corresponding length for a string.\n",
    "    ABCDEEDAAB, ABDCAAC, abbbccccda"
   ]
  },
  {
   "cell_type": "markdown",
   "id": "6a9fc7af-9ede-4efe-9dfd-55e1dd5ba157",
   "metadata": {
    "jp-MarkdownHeadingCollapsed": true,
    "tags": []
   },
   "source": [
    "##### Solution"
   ]
  },
  {
   "cell_type": "code",
   "execution_count": 50,
   "id": "6fbaadd6-3cb8-44ac-b5d4-cb4363a75a2c",
   "metadata": {},
   "outputs": [],
   "source": [
    "def all_palindromes(A):\n",
    "    n = A.lower()\n",
    "    j = len(n)-1\n",
    "    dict1 = {}\n",
    "    for x in range(len(A)):\n",
    "        m = \"\"\n",
    "        sequence_len = 0\n",
    "        count = x\n",
    "        for i in range(len(A)-x):\n",
    "            if n[count] == n[j-i]:\n",
    "                m+= n[count]\n",
    "                count +=1\n",
    "                sequence_len+=1    \n",
    "            else:\n",
    "                count = x\n",
    "                m = \"\"\n",
    "                sequence_len = 0\n",
    "        dict1[m] = sequence_len\n",
    "        print(f\"{m}: {sequence_len}\")\n",
    "    print(dict1)"
   ]
  },
  {
   "cell_type": "code",
   "execution_count": 62,
   "id": "2a6cabab-b115-4eda-b38c-04b0effb345a",
   "metadata": {},
   "outputs": [
    {
     "name": "stdout",
     "output_type": "stream",
     "text": [
      "a: 1\n",
      "bbb: 3\n",
      "bb: 2\n",
      "b: 1\n",
      "cccc: 4\n",
      "ccc: 3\n",
      "cc: 2\n",
      "c: 1\n",
      "d: 1\n",
      "a: 1\n",
      "{'a': 1, 'bbb': 3, 'bb': 2, 'b': 1, 'cccc': 4, 'ccc': 3, 'cc': 2, 'c': 1, 'd': 1}\n"
     ]
    }
   ],
   "source": [
    "A = \"NAMMAN\"\n",
    "A= \"ABCDEEDAAB\"\n",
    "#A = \"ABDCAAC\"\n",
    "A = \"abbbccccda\"\n",
    "all_palindromes(A)"
   ]
  },
  {
   "cell_type": "markdown",
   "id": "8a743478-8e6b-4e71-9abd-5a786dd2bb40",
   "metadata": {
    "jp-MarkdownHeadingCollapsed": true,
    "tags": []
   },
   "source": [
    "##### Longest Sub-Sequence Palindrome\n",
    "    Write a code to find and print the Longest Palindrome Sub-Sequence in the following sequences: \n",
    "    \n",
    "    ABCDEEDAAB, ABDCAAC, abbbccccda"
   ]
  },
  {
   "cell_type": "markdown",
   "id": "76e6c5bc-bad6-4c0d-8cf4-f1dc96bab127",
   "metadata": {
    "jp-MarkdownHeadingCollapsed": true,
    "tags": []
   },
   "source": [
    "##### Solution"
   ]
  },
  {
   "cell_type": "code",
   "execution_count": 56,
   "id": "b665a7aa-51b6-4d2a-880b-e08c2f88a472",
   "metadata": {},
   "outputs": [],
   "source": [
    "def longest_palindrome(A):\n",
    "    n = A.lower()\n",
    "    j = len(n)-1\n",
    "    dict1 = {}\n",
    "    max_len = float('-inf')\n",
    "    for x in range(len(A)):\n",
    "        m = \"\"\n",
    "        sequence_len = 0\n",
    "        count = x\n",
    "        for i in range(len(A)-x):\n",
    "            if n[count] == n[j-i]:\n",
    "                m+= n[count]\n",
    "                count +=1\n",
    "                sequence_len+=1    \n",
    "            else:\n",
    "                count = x\n",
    "                m = \"\"\n",
    "                sequence_len = 0\n",
    "        if sequence_len > max_len:\n",
    "            max_len = sequence_len\n",
    "        dict1[m] = sequence_len\n",
    "        #print(f\"{m}: {sequence_len}\")\n",
    "    print(max_len)\n",
    "    print(dict1)"
   ]
  },
  {
   "cell_type": "code",
   "execution_count": 61,
   "id": "7cd51868-f381-48d7-baf2-59ae33db20d9",
   "metadata": {},
   "outputs": [
    {
     "name": "stdout",
     "output_type": "stream",
     "text": [
      "4\n",
      "{'a': 1, 'bbb': 3, 'bb': 2, 'b': 1, 'cccc': 4, 'ccc': 3, 'cc': 2, 'c': 1, 'd': 1}\n"
     ]
    }
   ],
   "source": [
    "A= \"ABCDEEDAAB\"\n",
    "A = \"abbbccccda\"\n",
    "#A = \"NAMMAN\"\n",
    "longest_palindrome(A)"
   ]
  },
  {
   "cell_type": "markdown",
   "id": "a3332104-c33c-45eb-a029-0a95ebfcfb8c",
   "metadata": {
    "tags": []
   },
   "source": [
    "#### Q3: Sorting the value and then Key"
   ]
  },
  {
   "cell_type": "markdown",
   "id": "f68e530c-f887-414e-b6b7-bace8aa61fed",
   "metadata": {},
   "source": [
    "    Given the names and grades for each student in a class of N students, store them in a nested list and print the name(s) of any student(s) having the second lowest grade. \n",
    "    \n",
    "    If alpha and beta have same score(second lowest) output should be alpha beta(in alphabetically order)\n",
    "    list1 = [[\"B\",10,100], [\"A\", 10,28], [\"D\",15,76], [\"C\",5,67]]"
   ]
  },
  {
   "cell_type": "markdown",
   "id": "fe290899-8e25-46a0-aca5-c522d7f823ab",
   "metadata": {},
   "source": [
    "##### Solution"
   ]
  },
  {
   "cell_type": "code",
   "execution_count": null,
   "id": "febaa8e0-c0af-4ddd-b799-294fbf6009d1",
   "metadata": {},
   "outputs": [],
   "source": []
  },
  {
   "cell_type": "markdown",
   "id": "92349a29-ceae-490d-bf47-b6920fd935b7",
   "metadata": {
    "tags": []
   },
   "source": [
    "#### Q Given two strings check if two stringa are anagram ofeach other"
   ]
  },
  {
   "cell_type": "markdown",
   "id": "a7038036-a9fc-411c-b7d4-37f53281054a",
   "metadata": {},
   "source": []
  },
  {
   "cell_type": "markdown",
   "id": "3d14b43d-aa4a-431e-97f3-654c1ce58c4a",
   "metadata": {},
   "source": [
    "##### Solution"
   ]
  },
  {
   "cell_type": "markdown",
   "id": "a8d27d39-80e3-4d16-82dd-aa9606afbad8",
   "metadata": {
    "tags": []
   },
   "source": [
    "#### Q"
   ]
  },
  {
   "cell_type": "markdown",
   "id": "a23d64b5-ab0d-4eef-8d9f-8fe0c3a1a69b",
   "metadata": {},
   "source": []
  },
  {
   "cell_type": "markdown",
   "id": "288707ad-f2ac-4637-bb46-a95d30bf8ee3",
   "metadata": {},
   "source": [
    "##### Solution"
   ]
  },
  {
   "cell_type": "markdown",
   "id": "80e92cae-e5aa-45a0-b8a8-84c5e25333f1",
   "metadata": {
    "tags": []
   },
   "source": [
    "#### Q"
   ]
  },
  {
   "cell_type": "markdown",
   "id": "6ab9b66a-d0a7-41c6-8e39-ef0741fc2cd5",
   "metadata": {},
   "source": []
  },
  {
   "cell_type": "markdown",
   "id": "5394c02d-56b4-4e3d-bf71-329a31ba1249",
   "metadata": {},
   "source": [
    "##### Solution"
   ]
  }
 ],
 "metadata": {
  "kernelspec": {
   "display_name": "Python 3 (ipykernel)",
   "language": "python",
   "name": "python3"
  },
  "language_info": {
   "codemirror_mode": {
    "name": "ipython",
    "version": 3
   },
   "file_extension": ".py",
   "mimetype": "text/x-python",
   "name": "python",
   "nbconvert_exporter": "python",
   "pygments_lexer": "ipython3",
   "version": "3.9.12"
  },
  "widgets": {
   "application/vnd.jupyter.widget-state+json": {
    "state": {},
    "version_major": 2,
    "version_minor": 0
   }
  }
 },
 "nbformat": 4,
 "nbformat_minor": 5
}
