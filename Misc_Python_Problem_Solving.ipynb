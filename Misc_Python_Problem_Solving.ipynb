{
 "cells": [
  {
   "cell_type": "markdown",
   "id": "ded5c706-9490-4f52-8a96-f7d118273335",
   "metadata": {},
   "source": [
    "## Questions"
   ]
  },
  {
   "cell_type": "markdown",
   "id": "64f533d0-bff3-4957-84d9-f6ddcae880c5",
   "metadata": {
    "tags": []
   },
   "source": [
    "### Q1: H-index"
   ]
  },
  {
   "cell_type": "markdown",
   "id": "ab5af727-e701-46de-ab6b-ca42dfc1a915",
   "metadata": {
    "tags": []
   },
   "source": [
    "    Write a code to calculate h-index; given an array of papers and  their citations.\n",
    "    \n",
    "    https://leetcode.com/problems/h-index/"
   ]
  },
  {
   "cell_type": "markdown",
   "id": "78c078fd-37f1-4031-a1b5-68938f64eae7",
   "metadata": {},
   "source": [
    "##### Solution"
   ]
  },
  {
   "cell_type": "code",
   "execution_count": null,
   "id": "cd5d457d-a3c5-4266-baaa-a3f669358839",
   "metadata": {},
   "outputs": [],
   "source": []
  },
  {
   "cell_type": "markdown",
   "id": "f399a1a4-868b-455e-962a-de2632a5c054",
   "metadata": {
    "jp-MarkdownHeadingCollapsed": true,
    "tags": []
   },
   "source": [
    "### Q2: Palindrome Sub-sequence"
   ]
  },
  {
   "cell_type": "markdown",
   "id": "9d0f67c7-51e6-420f-a360-a1509e4a0114",
   "metadata": {
    "tags": []
   },
   "source": [
    "#### Sub-sequence palindromes\n",
    "    Print all the sub-sequence palindromes and their corresponding length for a string.\n",
    "    ABCDEEDAAB, ABDCAAC, abbbccccda"
   ]
  },
  {
   "cell_type": "markdown",
   "id": "6a9fc7af-9ede-4efe-9dfd-55e1dd5ba157",
   "metadata": {
    "jp-MarkdownHeadingCollapsed": true,
    "tags": []
   },
   "source": [
    "##### Solution"
   ]
  },
  {
   "cell_type": "code",
   "execution_count": 50,
   "id": "6fbaadd6-3cb8-44ac-b5d4-cb4363a75a2c",
   "metadata": {},
   "outputs": [],
   "source": [
    "def all_palindromes(A):\n",
    "    n = A.lower()\n",
    "    j = len(n)-1\n",
    "    dict1 = {}\n",
    "    for x in range(len(A)):\n",
    "        m = \"\"\n",
    "        sequence_len = 0\n",
    "        count = x\n",
    "        for i in range(len(A)-x):\n",
    "            if n[count] == n[j-i]:\n",
    "                m+= n[count]\n",
    "                count +=1\n",
    "                sequence_len+=1    \n",
    "            else:\n",
    "                count = x\n",
    "                m = \"\"\n",
    "                sequence_len = 0\n",
    "        dict1[m] = sequence_len\n",
    "        print(f\"{m}: {sequence_len}\")\n",
    "    print(dict1)"
   ]
  },
  {
   "cell_type": "code",
   "execution_count": 62,
   "id": "2a6cabab-b115-4eda-b38c-04b0effb345a",
   "metadata": {},
   "outputs": [
    {
     "name": "stdout",
     "output_type": "stream",
     "text": [
      "a: 1\n",
      "bbb: 3\n",
      "bb: 2\n",
      "b: 1\n",
      "cccc: 4\n",
      "ccc: 3\n",
      "cc: 2\n",
      "c: 1\n",
      "d: 1\n",
      "a: 1\n",
      "{'a': 1, 'bbb': 3, 'bb': 2, 'b': 1, 'cccc': 4, 'ccc': 3, 'cc': 2, 'c': 1, 'd': 1}\n"
     ]
    }
   ],
   "source": [
    "A = \"NAMMAN\"\n",
    "A= \"ABCDEEDAAB\"\n",
    "#A = \"ABDCAAC\"\n",
    "A = \"abbbccccda\"\n",
    "all_palindromes(A)"
   ]
  },
  {
   "cell_type": "markdown",
   "id": "8a743478-8e6b-4e71-9abd-5a786dd2bb40",
   "metadata": {
    "tags": []
   },
   "source": [
    "#### Longest Sub-Sequence Palindrome\n",
    "    Write a code to find and print the Longest Palindrome Sub-Sequence in the following sequences: \n",
    "    \n",
    "    ABCDEEDAAB, ABDCAAC, abbbccccda"
   ]
  },
  {
   "cell_type": "markdown",
   "id": "76e6c5bc-bad6-4c0d-8cf4-f1dc96bab127",
   "metadata": {
    "jp-MarkdownHeadingCollapsed": true,
    "tags": []
   },
   "source": [
    "##### Solution"
   ]
  },
  {
   "cell_type": "code",
   "execution_count": 56,
   "id": "b665a7aa-51b6-4d2a-880b-e08c2f88a472",
   "metadata": {},
   "outputs": [],
   "source": [
    "def longest_palindrome(A):\n",
    "    n = A.lower()\n",
    "    j = len(n)-1\n",
    "    dict1 = {}\n",
    "    max_len = float('-inf')\n",
    "    for x in range(len(A)):\n",
    "        m = \"\"\n",
    "        sequence_len = 0\n",
    "        count = x\n",
    "        for i in range(len(A)-x):\n",
    "            if n[count] == n[j-i]:\n",
    "                m+= n[count]\n",
    "                count +=1\n",
    "                sequence_len+=1    \n",
    "            else:\n",
    "                count = x\n",
    "                m = \"\"\n",
    "                sequence_len = 0\n",
    "        if sequence_len > max_len:\n",
    "            max_len = sequence_len\n",
    "        dict1[m] = sequence_len\n",
    "        #print(f\"{m}: {sequence_len}\")\n",
    "    print(max_len)\n",
    "    print(dict1)"
   ]
  },
  {
   "cell_type": "code",
   "execution_count": 61,
   "id": "7cd51868-f381-48d7-baf2-59ae33db20d9",
   "metadata": {},
   "outputs": [
    {
     "name": "stdout",
     "output_type": "stream",
     "text": [
      "4\n",
      "{'a': 1, 'bbb': 3, 'bb': 2, 'b': 1, 'cccc': 4, 'ccc': 3, 'cc': 2, 'c': 1, 'd': 1}\n"
     ]
    }
   ],
   "source": [
    "A= \"ABCDEEDAAB\"\n",
    "A = \"abbbccccda\"\n",
    "#A = \"NAMMAN\"\n",
    "longest_palindrome(A)"
   ]
  },
  {
   "cell_type": "markdown",
   "id": "a3332104-c33c-45eb-a029-0a95ebfcfb8c",
   "metadata": {
    "tags": []
   },
   "source": [
    "### Anagram"
   ]
  },
  {
   "cell_type": "markdown",
   "id": "92349a29-ceae-490d-bf47-b6920fd935b7",
   "metadata": {
    "tags": []
   },
   "source": [
    "#### Q3: \n",
    "Given two strings check if two strings are anagram of each other."
   ]
  },
  {
   "cell_type": "markdown",
   "id": "fe290899-8e25-46a0-aca5-c522d7f823ab",
   "metadata": {},
   "source": [
    "##### Solution"
   ]
  },
  {
   "cell_type": "code",
   "execution_count": 91,
   "id": "30f3c19c-1f03-40ad-9cd1-ca33462ed1aa",
   "metadata": {},
   "outputs": [],
   "source": [
    "def anagram(A,B):\n",
    "    A = (A.replace(\" \",\"\")).lower()\n",
    "    B = (B.replace(' ','')).lower()\n",
    "    for i in A:\n",
    "        if i not in B:\n",
    "             return False\n",
    "        else:\n",
    "            B = B.replace(i,\"\",1)\n",
    "            print(B)\n",
    "    return True"
   ]
  },
  {
   "cell_type": "code",
   "execution_count": 103,
   "id": "0e6e9966-fde6-4a0f-a4a7-25fdd7459750",
   "metadata": {},
   "outputs": [],
   "source": [
    "def anagram(A,B):\n",
    "    A = (A.replace(\" \",\"\")).lower()\n",
    "    B = (B.replace(' ','')).lower()\n",
    "    \n",
    "    dict_A= {}\n",
    "    for i in A:\n",
    "        if i not in dict_A:\n",
    "            dict_A[i] = 1\n",
    "        else:\n",
    "            dict_A[i] +=1\n",
    "            \n",
    "    dict_B = {}\n",
    "    for i in B:\n",
    "        if i not in dict_B:\n",
    "            dict_B[i] = 1\n",
    "        else:\n",
    "            dict_B[i] +=1\n",
    "    \n",
    "    return dict_A == dict_B\n",
    "    "
   ]
  },
  {
   "cell_type": "code",
   "execution_count": 108,
   "id": "a59fcb51-695d-4e09-8c25-9b6bbf9f3200",
   "metadata": {},
   "outputs": [
    {
     "data": {
      "text/plain": [
       "True"
      ]
     },
     "execution_count": 108,
     "metadata": {},
     "output_type": "execute_result"
    }
   ],
   "source": [
    "A = \"Cameeela\"\n",
    "B = \"lemaeaec\"\n",
    "anagram(A,B)"
   ]
  },
  {
   "cell_type": "markdown",
   "id": "3d14b43d-aa4a-431e-97f3-654c1ce58c4a",
   "metadata": {},
   "source": [
    "##### Solution"
   ]
  },
  {
   "cell_type": "code",
   "execution_count": 50,
   "id": "a387a1cd-743a-4d88-9ac0-1e9b123c079a",
   "metadata": {},
   "outputs": [],
   "source": [
    "def check_anagram(A,B):\n",
    "    A = (A.replace(\" \",\"\")).lower()\n",
    "    B = (B.replace(' ','')).lower()\n",
    "    if len(A) == len(B):\n",
    "        if set(A)==set(B):\n",
    "                return True\n",
    "    return False"
   ]
  },
  {
   "cell_type": "code",
   "execution_count": 56,
   "id": "9267227c-faba-4362-9b2b-709ad1c067ed",
   "metadata": {},
   "outputs": [
    {
     "data": {
      "text/plain": [
       "True"
      ]
     },
     "execution_count": 56,
     "metadata": {},
     "output_type": "execute_result"
    }
   ],
   "source": [
    "A = \"Cameel\"\n",
    "B = \"lemaac\"\n",
    "check_anagram(A,B)"
   ]
  },
  {
   "cell_type": "markdown",
   "id": "a8d27d39-80e3-4d16-82dd-aa9606afbad8",
   "metadata": {
    "tags": []
   },
   "source": [
    "#### Q"
   ]
  },
  {
   "cell_type": "markdown",
   "id": "a23d64b5-ab0d-4eef-8d9f-8fe0c3a1a69b",
   "metadata": {},
   "source": []
  },
  {
   "cell_type": "markdown",
   "id": "288707ad-f2ac-4637-bb46-a95d30bf8ee3",
   "metadata": {},
   "source": [
    "##### Solution"
   ]
  },
  {
   "cell_type": "markdown",
   "id": "80e92cae-e5aa-45a0-b8a8-84c5e25333f1",
   "metadata": {
    "tags": []
   },
   "source": [
    "#### Q"
   ]
  },
  {
   "cell_type": "markdown",
   "id": "6ab9b66a-d0a7-41c6-8e39-ef0741fc2cd5",
   "metadata": {},
   "source": []
  },
  {
   "cell_type": "markdown",
   "id": "5394c02d-56b4-4e3d-bf71-329a31ba1249",
   "metadata": {},
   "source": [
    "##### Solution"
   ]
  }
 ],
 "metadata": {
  "kernelspec": {
   "display_name": "Python 3 (ipykernel)",
   "language": "python",
   "name": "python3"
  },
  "language_info": {
   "codemirror_mode": {
    "name": "ipython",
    "version": 3
   },
   "file_extension": ".py",
   "mimetype": "text/x-python",
   "name": "python",
   "nbconvert_exporter": "python",
   "pygments_lexer": "ipython3",
   "version": "3.9.12"
  },
  "widgets": {
   "application/vnd.jupyter.widget-state+json": {
    "state": {},
    "version_major": 2,
    "version_minor": 0
   }
  }
 },
 "nbformat": 4,
 "nbformat_minor": 5
}
