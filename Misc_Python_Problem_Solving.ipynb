{
 "cells": [
  {
   "cell_type": "markdown",
   "id": "ded5c706-9490-4f52-8a96-f7d118273335",
   "metadata": {},
   "source": [
    "## Questions"
   ]
  },
  {
   "cell_type": "markdown",
   "id": "64f533d0-bff3-4957-84d9-f6ddcae880c5",
   "metadata": {
    "tags": []
   },
   "source": [
    "#### Q1: H-index"
   ]
  },
  {
   "cell_type": "markdown",
   "id": "ab5af727-e701-46de-ab6b-ca42dfc1a915",
   "metadata": {
    "tags": []
   },
   "source": [
    "     Write a code to calculate h-index; given an array of papers and       their citations.\n",
    "    \n",
    "    https://leetcode.com/problems/h-index/"
   ]
  },
  {
   "cell_type": "markdown",
   "id": "78c078fd-37f1-4031-a1b5-68938f64eae7",
   "metadata": {},
   "source": [
    "##### Solution"
   ]
  },
  {
   "cell_type": "code",
   "execution_count": null,
   "id": "cd5d457d-a3c5-4266-baaa-a3f669358839",
   "metadata": {},
   "outputs": [],
   "source": []
  },
  {
   "cell_type": "markdown",
   "id": "f399a1a4-868b-455e-962a-de2632a5c054",
   "metadata": {
    "tags": []
   },
   "source": [
    "#### Q"
   ]
  },
  {
   "cell_type": "markdown",
   "id": "6a9fc7af-9ede-4efe-9dfd-55e1dd5ba157",
   "metadata": {},
   "source": [
    "##### Solution"
   ]
  },
  {
   "cell_type": "markdown",
   "id": "a3332104-c33c-45eb-a029-0a95ebfcfb8c",
   "metadata": {
    "tags": []
   },
   "source": [
    "#### Q"
   ]
  },
  {
   "cell_type": "markdown",
   "id": "fe290899-8e25-46a0-aca5-c522d7f823ab",
   "metadata": {},
   "source": [
    "##### Solution"
   ]
  },
  {
   "cell_type": "markdown",
   "id": "92349a29-ceae-490d-bf47-b6920fd935b7",
   "metadata": {
    "tags": []
   },
   "source": [
    "#### Q"
   ]
  },
  {
   "cell_type": "markdown",
   "id": "3d14b43d-aa4a-431e-97f3-654c1ce58c4a",
   "metadata": {},
   "source": [
    "##### Solution"
   ]
  },
  {
   "cell_type": "markdown",
   "id": "a8d27d39-80e3-4d16-82dd-aa9606afbad8",
   "metadata": {
    "tags": []
   },
   "source": [
    "#### Q"
   ]
  },
  {
   "cell_type": "markdown",
   "id": "288707ad-f2ac-4637-bb46-a95d30bf8ee3",
   "metadata": {},
   "source": [
    "##### Solution"
   ]
  },
  {
   "cell_type": "markdown",
   "id": "80e92cae-e5aa-45a0-b8a8-84c5e25333f1",
   "metadata": {
    "tags": []
   },
   "source": [
    "#### Q"
   ]
  },
  {
   "cell_type": "markdown",
   "id": "5394c02d-56b4-4e3d-bf71-329a31ba1249",
   "metadata": {},
   "source": [
    "##### Solution"
   ]
  }
 ],
 "metadata": {
  "kernelspec": {
   "display_name": "Python 3 (ipykernel)",
   "language": "python",
   "name": "python3"
  },
  "language_info": {
   "codemirror_mode": {
    "name": "ipython",
    "version": 3
   },
   "file_extension": ".py",
   "mimetype": "text/x-python",
   "name": "python",
   "nbconvert_exporter": "python",
   "pygments_lexer": "ipython3",
   "version": "3.9.12"
  },
  "widgets": {
   "application/vnd.jupyter.widget-state+json": {
    "state": {},
    "version_major": 2,
    "version_minor": 0
   }
  }
 },
 "nbformat": 4,
 "nbformat_minor": 5
}
