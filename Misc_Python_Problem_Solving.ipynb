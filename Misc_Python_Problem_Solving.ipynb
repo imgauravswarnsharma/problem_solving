{
 "cells": [
  {
   "cell_type": "markdown",
   "id": "ded5c706-9490-4f52-8a96-f7d118273335",
   "metadata": {},
   "source": [
    "## Questions"
   ]
  },
  {
   "cell_type": "markdown",
   "id": "64f533d0-bff3-4957-84d9-f6ddcae880c5",
   "metadata": {
    "tags": []
   },
   "source": [
    "### Q1: H-index"
   ]
  },
  {
   "cell_type": "markdown",
   "id": "ab5af727-e701-46de-ab6b-ca42dfc1a915",
   "metadata": {
    "tags": []
   },
   "source": [
    "    Write a code to calculate h-index; given an array of papers and  their citations.\n",
    "    \n",
    "    https://leetcode.com/problems/h-index/"
   ]
  },
  {
   "cell_type": "markdown",
   "id": "78c078fd-37f1-4031-a1b5-68938f64eae7",
   "metadata": {},
   "source": [
    "##### Solution"
   ]
  },
  {
   "cell_type": "code",
   "execution_count": null,
   "id": "cd5d457d-a3c5-4266-baaa-a3f669358839",
   "metadata": {},
   "outputs": [],
   "source": []
  },
  {
   "cell_type": "markdown",
   "id": "f399a1a4-868b-455e-962a-de2632a5c054",
   "metadata": {
    "jp-MarkdownHeadingCollapsed": true,
    "tags": []
   },
   "source": [
    "### Q2: Palindrome Sub-sequence"
   ]
  },
  {
   "cell_type": "markdown",
   "id": "9d0f67c7-51e6-420f-a360-a1509e4a0114",
   "metadata": {
    "tags": []
   },
   "source": [
    "#### Sub-sequence palindromes\n",
    "    Print all the sub-sequence palindromes and their corresponding length for a string.\n",
    "    ABCDEEDAAB, ABDCAAC, abbbccccda"
   ]
  },
  {
   "cell_type": "markdown",
   "id": "6a9fc7af-9ede-4efe-9dfd-55e1dd5ba157",
   "metadata": {
    "jp-MarkdownHeadingCollapsed": true,
    "tags": []
   },
   "source": [
    "##### Solution"
   ]
  },
  {
   "cell_type": "code",
   "execution_count": 50,
   "id": "6fbaadd6-3cb8-44ac-b5d4-cb4363a75a2c",
   "metadata": {},
   "outputs": [],
   "source": [
    "def all_palindromes(A):\n",
    "    n = A.lower()\n",
    "    j = len(n)-1\n",
    "    dict1 = {}\n",
    "    for x in range(len(A)):\n",
    "        m = \"\"\n",
    "        sequence_len = 0\n",
    "        count = x\n",
    "        for i in range(len(A)-x):\n",
    "            if n[count] == n[j-i]:\n",
    "                m+= n[count]\n",
    "                count +=1\n",
    "                sequence_len+=1    \n",
    "            else:\n",
    "                count = x\n",
    "                m = \"\"\n",
    "                sequence_len = 0\n",
    "        dict1[m] = sequence_len\n",
    "        print(f\"{m}: {sequence_len}\")\n",
    "    print(dict1)"
   ]
  },
  {
   "cell_type": "code",
   "execution_count": 62,
   "id": "2a6cabab-b115-4eda-b38c-04b0effb345a",
   "metadata": {},
   "outputs": [
    {
     "name": "stdout",
     "output_type": "stream",
     "text": [
      "a: 1\n",
      "bbb: 3\n",
      "bb: 2\n",
      "b: 1\n",
      "cccc: 4\n",
      "ccc: 3\n",
      "cc: 2\n",
      "c: 1\n",
      "d: 1\n",
      "a: 1\n",
      "{'a': 1, 'bbb': 3, 'bb': 2, 'b': 1, 'cccc': 4, 'ccc': 3, 'cc': 2, 'c': 1, 'd': 1}\n"
     ]
    }
   ],
   "source": [
    "A = \"NAMMAN\"\n",
    "A= \"ABCDEEDAAB\"\n",
    "#A = \"ABDCAAC\"\n",
    "A = \"abbbccccda\"\n",
    "all_palindromes(A)"
   ]
  },
  {
   "cell_type": "markdown",
   "id": "8a743478-8e6b-4e71-9abd-5a786dd2bb40",
   "metadata": {
    "tags": []
   },
   "source": [
    "#### Longest Sub-Sequence Palindrome\n",
    "    Write a code to find and print the Longest Palindrome Sub-Sequence in the following sequences: \n",
    "    \n",
    "    ABCDEEDAAB, ABDCAAC, abbbccccda"
   ]
  },
  {
   "cell_type": "markdown",
   "id": "76e6c5bc-bad6-4c0d-8cf4-f1dc96bab127",
   "metadata": {
    "jp-MarkdownHeadingCollapsed": true,
    "tags": []
   },
   "source": [
    "##### Solution"
   ]
  },
  {
   "cell_type": "code",
   "execution_count": 56,
   "id": "b665a7aa-51b6-4d2a-880b-e08c2f88a472",
   "metadata": {},
   "outputs": [],
   "source": [
    "def longest_palindrome(A):\n",
    "    n = A.lower()\n",
    "    j = len(n)-1\n",
    "    dict1 = {}\n",
    "    max_len = float('-inf')\n",
    "    for x in range(len(A)):\n",
    "        m = \"\"\n",
    "        sequence_len = 0\n",
    "        count = x\n",
    "        for i in range(len(A)-x):\n",
    "            if n[count] == n[j-i]:\n",
    "                m+= n[count]\n",
    "                count +=1\n",
    "                sequence_len+=1    \n",
    "            else:\n",
    "                count = x\n",
    "                m = \"\"\n",
    "                sequence_len = 0\n",
    "        if sequence_len > max_len:\n",
    "            max_len = sequence_len\n",
    "        dict1[m] = sequence_len\n",
    "        #print(f\"{m}: {sequence_len}\")\n",
    "    print(max_len)\n",
    "    print(dict1)"
   ]
  },
  {
   "cell_type": "code",
   "execution_count": 61,
   "id": "7cd51868-f381-48d7-baf2-59ae33db20d9",
   "metadata": {},
   "outputs": [
    {
     "name": "stdout",
     "output_type": "stream",
     "text": [
      "4\n",
      "{'a': 1, 'bbb': 3, 'bb': 2, 'b': 1, 'cccc': 4, 'ccc': 3, 'cc': 2, 'c': 1, 'd': 1}\n"
     ]
    }
   ],
   "source": [
    "A= \"ABCDEEDAAB\"\n",
    "A = \"abbbccccda\"\n",
    "#A = \"NAMMAN\"\n",
    "longest_palindrome(A)"
   ]
  },
  {
   "cell_type": "markdown",
   "id": "a3332104-c33c-45eb-a029-0a95ebfcfb8c",
   "metadata": {
    "jp-MarkdownHeadingCollapsed": true,
    "tags": []
   },
   "source": [
    "### Q3: Anagram\n",
    "    Given two strings check if two strings are anagram of each other."
   ]
  },
  {
   "cell_type": "markdown",
   "id": "fe290899-8e25-46a0-aca5-c522d7f823ab",
   "metadata": {
    "jp-MarkdownHeadingCollapsed": true,
    "tags": []
   },
   "source": [
    "##### Solution 1"
   ]
  },
  {
   "cell_type": "markdown",
   "id": "fd51d457-e80c-4f3f-835f-4bb8a1394a91",
   "metadata": {},
   "source": [
    "Using replace"
   ]
  },
  {
   "cell_type": "code",
   "execution_count": 121,
   "id": "30f3c19c-1f03-40ad-9cd1-ca33462ed1aa",
   "metadata": {},
   "outputs": [],
   "source": [
    "def anagram(A,B):\n",
    "    A = (A.replace(\" \",\"\")).lower()\n",
    "    B = (B.replace(' ','')).lower()\n",
    "    for i in A:\n",
    "        if i not in B:\n",
    "             return False\n",
    "        else:\n",
    "            B = B.replace(i,\"\",1)\n",
    "    return True"
   ]
  },
  {
   "cell_type": "code",
   "execution_count": 122,
   "id": "a59fcb51-695d-4e09-8c25-9b6bbf9f3200",
   "metadata": {},
   "outputs": [
    {
     "data": {
      "text/plain": [
       "True"
      ]
     },
     "execution_count": 122,
     "metadata": {},
     "output_type": "execute_result"
    }
   ],
   "source": [
    "A = \"Cameeela\"\n",
    "B = \"lemaeaec\"\n",
    "anagram(A,B)"
   ]
  },
  {
   "cell_type": "markdown",
   "id": "3d14b43d-aa4a-431e-97f3-654c1ce58c4a",
   "metadata": {
    "jp-MarkdownHeadingCollapsed": true,
    "tags": []
   },
   "source": [
    "##### Solution 2"
   ]
  },
  {
   "cell_type": "markdown",
   "id": "80d520ac-7acc-451d-aec1-6c0b434eb61f",
   "metadata": {},
   "source": [
    "Using dict"
   ]
  },
  {
   "cell_type": "code",
   "execution_count": 123,
   "id": "0e6e9966-fde6-4a0f-a4a7-25fdd7459750",
   "metadata": {},
   "outputs": [],
   "source": [
    "def anagram(A,B):\n",
    "    A = (A.replace(\" \",\"\")).lower()\n",
    "    B = (B.replace(' ','')).lower()\n",
    "    \n",
    "    dict_A= {}\n",
    "    for i in A:\n",
    "        if i not in dict_A:\n",
    "            dict_A[i] = 1\n",
    "        else:\n",
    "            dict_A[i] +=1\n",
    "            \n",
    "    dict_B = {}\n",
    "    for i in B:\n",
    "        if i not in dict_B:\n",
    "            dict_B[i] = 1\n",
    "        else:\n",
    "            dict_B[i] +=1\n",
    "    \n",
    "    return dict_A == dict_B\n",
    "    "
   ]
  },
  {
   "cell_type": "code",
   "execution_count": 125,
   "id": "9267227c-faba-4362-9b2b-709ad1c067ed",
   "metadata": {},
   "outputs": [
    {
     "data": {
      "text/plain": [
       "True"
      ]
     },
     "execution_count": 125,
     "metadata": {},
     "output_type": "execute_result"
    }
   ],
   "source": [
    "A = \"Cameeela\"\n",
    "B = \"lemaeaec\"\n",
    "anagram(A,B)"
   ]
  },
  {
   "cell_type": "markdown",
   "id": "9f237197-7715-409c-b5ca-e0cb83e39d63",
   "metadata": {
    "jp-MarkdownHeadingCollapsed": true,
    "tags": []
   },
   "source": [
    "##### Solution 3"
   ]
  },
  {
   "cell_type": "markdown",
   "id": "ddba30bf-5d7f-45d7-a87d-d85dadef62f6",
   "metadata": {},
   "source": [
    "Simplest Solution"
   ]
  },
  {
   "cell_type": "code",
   "execution_count": 128,
   "id": "a387a1cd-743a-4d88-9ac0-1e9b123c079a",
   "metadata": {},
   "outputs": [],
   "source": [
    "def check_anagram(A,B):\n",
    "    A = (A.replace(\" \",\"\")).lower()\n",
    "    B = (B.replace(' ','')).lower()\n",
    "    return sorted(A)==sorted(B)"
   ]
  },
  {
   "cell_type": "code",
   "execution_count": 130,
   "id": "3d6e33c0-894b-4d01-b45d-f5bb05a86f87",
   "metadata": {},
   "outputs": [
    {
     "data": {
      "text/plain": [
       "True"
      ]
     },
     "execution_count": 130,
     "metadata": {},
     "output_type": "execute_result"
    }
   ],
   "source": [
    "A = \"Cameeela\"\n",
    "B = \"lemaeaec\"\n",
    "check_anagram(A,B)"
   ]
  },
  {
   "cell_type": "markdown",
   "id": "a8d27d39-80e3-4d16-82dd-aa9606afbad8",
   "metadata": {
    "tags": []
   },
   "source": [
    "### Q4\n",
    "\n",
    "    Find the index where element will be inserted in the list.\n",
    "    list_1 = [1,2,3,4,4,4,6,9]\n",
    "    element = 5"
   ]
  },
  {
   "cell_type": "markdown",
   "id": "0df09543-544a-486f-9302-33f4e952174f",
   "metadata": {
    "jp-MarkdownHeadingCollapsed": true,
    "tags": []
   },
   "source": [
    "##### Solution"
   ]
  },
  {
   "cell_type": "code",
   "execution_count": 139,
   "id": "61f22793-d80f-46ab-b727-4e4891addab5",
   "metadata": {},
   "outputs": [],
   "source": [
    "def insert_element(list1, A):\n",
    "    for i in range(len(list1)):\n",
    "        if list1[i]>A:\n",
    "            return i"
   ]
  },
  {
   "cell_type": "code",
   "execution_count": 140,
   "id": "4d80a56b-9486-4033-bd60-57cd89ed902c",
   "metadata": {},
   "outputs": [
    {
     "data": {
      "text/plain": [
       "6"
      ]
     },
     "execution_count": 140,
     "metadata": {},
     "output_type": "execute_result"
    }
   ],
   "source": [
    "list_1 = [1,2,3,4,4,4,6,9]\n",
    "insert_element(list_1, 5)"
   ]
  },
  {
   "cell_type": "markdown",
   "id": "80e92cae-e5aa-45a0-b8a8-84c5e25333f1",
   "metadata": {
    "jp-MarkdownHeadingCollapsed": true,
    "tags": []
   },
   "source": [
    "### Q5\n",
    "\n",
    "    Find the nearest number to a target\n",
    "    list1 = [1,2,22,11, 15] \n",
    "    target = 10"
   ]
  },
  {
   "cell_type": "markdown",
   "id": "5394c02d-56b4-4e3d-bf71-329a31ba1249",
   "metadata": {
    "jp-MarkdownHeadingCollapsed": true,
    "tags": []
   },
   "source": [
    "##### Solution"
   ]
  },
  {
   "cell_type": "code",
   "execution_count": 13,
   "id": "482f24e1-8479-4b96-8b04-85e902b0d341",
   "metadata": {},
   "outputs": [],
   "source": [
    "def nearest(A,B):\n",
    "    X = B\n",
    "    diff = abs(A[0]-B)\n",
    "    for i in A:\n",
    "        if abs(i-B)<=diff:\n",
    "            diff = abs(i-B)\n",
    "            X = i\n",
    "    return X"
   ]
  },
  {
   "cell_type": "code",
   "execution_count": 14,
   "id": "8e67e34b-f8f9-4307-993b-d7891eba3fe5",
   "metadata": {},
   "outputs": [
    {
     "data": {
      "text/plain": [
       "11"
      ]
     },
     "execution_count": 14,
     "metadata": {},
     "output_type": "execute_result"
    }
   ],
   "source": [
    "list1 = [1,2,22,9,11, 15] \n",
    "target = 10\n",
    "nearest(list1, target)"
   ]
  },
  {
   "cell_type": "markdown",
   "id": "7691132f-9d5a-40ef-be14-cd36e8a98859",
   "metadata": {
    "tags": []
   },
   "source": [
    "### Q7"
   ]
  },
  {
   "cell_type": "markdown",
   "id": "c8b72972-4d18-4acd-aa4d-e34ddb9ddbf4",
   "metadata": {},
   "source": [
    "    Find the number of rotations\n",
    "    List1 = [4,5,6, 1,2,3]  #sorted = [1,2,3,4,5,6]--- >[4,5,6,1,2,3]\n",
    "    Output = number of rotations = 3"
   ]
  },
  {
   "cell_type": "markdown",
   "id": "ee84e9a7-f248-41e1-978b-962738c0b508",
   "metadata": {
    "jp-MarkdownHeadingCollapsed": true,
    "tags": []
   },
   "source": [
    "##### Solution"
   ]
  },
  {
   "cell_type": "code",
   "execution_count": 160,
   "id": "9cd12e83-008d-4620-b6e9-88f15fae4eff",
   "metadata": {},
   "outputs": [],
   "source": [
    "def rotation(A,B):\n",
    "    for i in range(len(A)):\n",
    "        if B[i] == A[0]:\n",
    "            return i"
   ]
  },
  {
   "cell_type": "code",
   "execution_count": 161,
   "id": "4c5a38fb-2be8-46f1-8f2e-d4ffbdf6ef9c",
   "metadata": {},
   "outputs": [
    {
     "data": {
      "text/plain": [
       "3"
      ]
     },
     "execution_count": 161,
     "metadata": {},
     "output_type": "execute_result"
    }
   ],
   "source": [
    "A = [1,2,3,4,5,6]\n",
    "B = [4,5,6,1,2,3]\n",
    "rotation(A,B)"
   ]
  }
 ],
 "metadata": {
  "kernelspec": {
   "display_name": "Python 3 (ipykernel)",
   "language": "python",
   "name": "python3"
  },
  "language_info": {
   "codemirror_mode": {
    "name": "ipython",
    "version": 3
   },
   "file_extension": ".py",
   "mimetype": "text/x-python",
   "name": "python",
   "nbconvert_exporter": "python",
   "pygments_lexer": "ipython3",
   "version": "3.9.12"
  },
  "widgets": {
   "application/vnd.jupyter.widget-state+json": {
    "state": {},
    "version_major": 2,
    "version_minor": 0
   }
  }
 },
 "nbformat": 4,
 "nbformat_minor": 5
}
